{
 "cells": [
  {
   "cell_type": "code",
   "execution_count": 1,
   "metadata": {
    "ExecuteTime": {
     "end_time": "2019-12-18T02:46:44.377508Z",
     "start_time": "2019-12-18T02:46:44.326033Z"
    }
   },
   "outputs": [],
   "source": [
    "import sys\n",
    "import os\n",
    "from PyQt5 import uic, QtWidgets, QtGui, QtCore\n",
    "from PyQt5.QtWidgets import QApplication, QWidget, QTabWidget, QMainWindow, QFileDialog, QListWidgetItem\n",
    "from model import Model\n",
    "from os.path import expanduser"
   ]
  },
  {
   "cell_type": "code",
   "execution_count": 2,
   "metadata": {
    "ExecuteTime": {
     "end_time": "2019-12-18T02:46:44.936666Z",
     "start_time": "2019-12-18T02:46:44.912939Z"
    }
   },
   "outputs": [],
   "source": [
    "icon = QtGui.QIcon(os.path.join(os.getcwd(), 'main.py'))"
   ]
  },
  {
   "cell_type": "code",
   "execution_count": 3,
   "metadata": {
    "ExecuteTime": {
     "end_time": "2019-12-18T02:50:09.190965Z",
     "start_time": "2019-12-18T02:50:09.123410Z"
    }
   },
   "outputs": [
    {
     "ename": "AttributeError",
     "evalue": "module 'PyQt5.QtGui' has no attribute 'QFileIconProvider'",
     "output_type": "error",
     "traceback": [
      "\u001b[0;31m---------------------------------------------------------------------------\u001b[0m",
      "\u001b[0;31mAttributeError\u001b[0m                            Traceback (most recent call last)",
      "\u001b[0;32m<ipython-input-3-7576c152ebe5>\u001b[0m in \u001b[0;36m<module>\u001b[0;34m\u001b[0m\n\u001b[1;32m      1\u001b[0m \u001b[0mfileInfo\u001b[0m \u001b[0;34m=\u001b[0m \u001b[0mQtCore\u001b[0m\u001b[0;34m.\u001b[0m\u001b[0mQFileInfo\u001b[0m\u001b[0;34m(\u001b[0m\u001b[0;34m\"main.py\"\u001b[0m\u001b[0;34m)\u001b[0m\u001b[0;34m\u001b[0m\u001b[0;34m\u001b[0m\u001b[0m\n\u001b[0;32m----> 2\u001b[0;31m \u001b[0miconProvider\u001b[0m \u001b[0;34m=\u001b[0m \u001b[0mQtGui\u001b[0m\u001b[0;34m.\u001b[0m\u001b[0mQFileIconProvider\u001b[0m\u001b[0;34m(\u001b[0m\u001b[0;34m)\u001b[0m\u001b[0;34m\u001b[0m\u001b[0;34m\u001b[0m\u001b[0m\n\u001b[0m\u001b[1;32m      3\u001b[0m \u001b[0micon\u001b[0m \u001b[0;34m=\u001b[0m \u001b[0miconProvider\u001b[0m\u001b[0;34m.\u001b[0m\u001b[0micon\u001b[0m\u001b[0;34m(\u001b[0m\u001b[0mfileInfo\u001b[0m\u001b[0;34m)\u001b[0m\u001b[0;34m\u001b[0m\u001b[0;34m\u001b[0m\u001b[0m\n",
      "\u001b[0;31mAttributeError\u001b[0m: module 'PyQt5.QtGui' has no attribute 'QFileIconProvider'"
     ]
    }
   ],
   "source": [
    "fileInfo = QtCore.QFileInfo(\"main.py\")\n",
    "iconProvider = QtGui.QFileIconProvider()\n",
    "icon = iconProvider.icon(fileInfo)"
   ]
  }
 ],
 "metadata": {
  "kernelspec": {
   "display_name": "Python 3",
   "language": "python",
   "name": "python3"
  },
  "language_info": {
   "codemirror_mode": {
    "name": "ipython",
    "version": 3
   },
   "file_extension": ".py",
   "mimetype": "text/x-python",
   "name": "python",
   "nbconvert_exporter": "python",
   "pygments_lexer": "ipython3",
   "version": "3.7.2"
  }
 },
 "nbformat": 4,
 "nbformat_minor": 2
}
